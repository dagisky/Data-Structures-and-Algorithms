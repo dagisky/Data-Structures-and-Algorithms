{
 "cells": [
  {
   "cell_type": "markdown",
   "metadata": {},
   "source": [
    "## FrogRiverOne\n",
    "A small frog wants to get to the other side of a river. The frog is initially located on one bank of the river (position 0) and wants to get to the opposite bank (position X+1). Leaves fall from a tree onto the surface of the river.\n",
    "\n",
    "You are given an array A consisting of N integers representing the falling leaves. A[K] represents the position where one leaf falls at time K, measured in seconds.\n",
    "\n",
    "The goal is to find the earliest time when the frog can jump to the other side of the river. The frog can cross only when leaves appear at every position across the river from 1 to X (that is, we want to find the earliest moment when all the positions from 1 to X are covered by leaves). You may assume that the speed of the current in the river is negligibly small, i.e. the leaves do not change their positions once they fall in the river.\n",
    "\n",
    "For example, you are given integer X = 5 and array A such that:\n",
    "\n",
    "  A[0] = 1  \n",
    "  A[1] = 3  \n",
    "  A[2] = 1  \n",
    "  A[3] = 4  \n",
    "  A[4] = 2  \n",
    "  A[5] = 3  \n",
    "  A[6] = 5  \n",
    "  A[7] = 4  \n",
    "In second 6, a leaf falls into position 5. This is the earliest time when leaves appear in every position across the river.\n",
    "\n",
    "Write a function:\n",
    "\n",
    "def **solution(X, A)**\n",
    "\n",
    "that, given a non-empty array A consisting of N integers and integer X, returns the earliest time when the frog can jump to the other side of the river.\n",
    "\n",
    "If the frog is never able to jump to the other side of the river, the function should return −1.\n",
    "\n",
    "For example, given X = 5 and array A such that:\n",
    "\n",
    "  A[0] = 1  \n",
    "  A[1] = 3  \n",
    "  A[2] = 1  \n",
    "  A[3] = 4   \n",
    "  A[4] = 2  \n",
    "  A[5] = 3  \n",
    "  A[6] = 5  \n",
    "  A[7] = 4  \n",
    "the function should return 6, as explained above.\n",
    "\n",
    "Write an efficient algorithm for the following assumptions:\n",
    "\n",
    "N and X are integers within the range [1..100,000];\n",
    "each element of array A is an integer within the range [1..X]."
   ]
  },
  {
   "cell_type": "code",
   "execution_count": 1,
   "metadata": {},
   "outputs": [
    {
     "data": {
      "text/plain": [
       "6"
      ]
     },
     "execution_count": 1,
     "metadata": {},
     "output_type": "execute_result"
    }
   ],
   "source": [
    "A = [1,3,1,4,2,3,5,4]\n",
    "X = 5\n",
    "\n",
    "def solution(X, A):\n",
    "    lista = list(range(1, X + 1))\n",
    "    if X < 1 or len(A) < 1:\n",
    "        return -1\n",
    "    found = -1\n",
    "    for element in lista:\n",
    "        if element in A:\n",
    "            if A.index(element) > found:\n",
    "                found = A.index(element)\n",
    "        else: return -1\n",
    "    return found\n",
    "\n",
    "solution(X, A)"
   ]
  },
  {
   "cell_type": "markdown",
   "metadata": {},
   "source": [
    "You are given N counters, initially set to 0, and you have two possible operations on them:\n",
    "\n",
    "increase(X) − counter X is increased by 1,\n",
    "max counter − all counters are set to the maximum value of any counter.\n",
    "A non-empty array A of M integers is given. This array represents consecutive operations:\n",
    "\n",
    "if A[K] = X, such that 1 ≤ X ≤ N, then operation K is increase(X),\n",
    "if A[K] = N + 1 then operation K is max counter.\n",
    "For example, given integer N = 5 and array A such that:\n",
    "\n",
    "    A[0] = 3  \n",
    "    A[1] = 4  \n",
    "    A[2] = 4  \n",
    "    A[3] = 6  \n",
    "    A[4] = 1  \n",
    "    A[5] = 4  \n",
    "    A[6] = 4  \n",
    "the values of the counters after each consecutive operation will be:\n",
    "\n",
    "    (0, 0, 1, 0, 0)  \n",
    "    (0, 0, 1, 1, 0)  \n",
    "    (0, 0, 1, 2, 0)  \n",
    "    (2, 2, 2, 2, 2)  \n",
    "    (3, 2, 2, 2, 2)  \n",
    "    (3, 2, 2, 3, 2)  \n",
    "    (3, 2, 2, 4, 2)  \n",
    "The goal is to calculate the value of every counter after all operations.\n",
    "\n",
    "Write a function:\n",
    "\n",
    "def solution(N, A)\n",
    "\n",
    "that, given an integer N and a non-empty array A consisting of M integers, returns a sequence of integers representing the values of the counters.\n",
    "\n",
    "Result array should be returned as an array of integers.\n",
    "\n",
    "For example, given:\n",
    "\n",
    "    A[0] = 3  \n",
    "    A[1] = 4  \n",
    "    A[2] = 4  \n",
    "    A[3] = 6  \n",
    "    A[4] = 1  \n",
    "    A[5] = 4  \n",
    "    A[6] = 4  \n",
    "the function should return [3, 2, 2, 4, 2], as explained above.\n",
    "\n",
    "Write an efficient algorithm for the following assumptions:\n",
    "\n",
    "N and M are integers within the range [1..100,000];\n",
    "each element of array A is an integer within the range [1..N + 1].\n"
   ]
  },
  {
   "cell_type": "code",
   "execution_count": 17,
   "metadata": {},
   "outputs": [
    {
     "data": {
      "text/plain": [
       "[3, 2, 2, 4, 2]"
      ]
     },
     "execution_count": 17,
     "metadata": {},
     "output_type": "execute_result"
    }
   ],
   "source": [
    "N, A = 5, [3, 4, 4, 6, 1, 4, 4]\n",
    "# you can write to stdout for debugging purposes, e.g.\n",
    "# print(\"this is a debug message\")\n",
    "\n",
    "def solution(N, A):\n",
    "    # write your code in Python 3.6\n",
    "    last_counter, mx = [0]*N, 0\n",
    "    for i in range(len(A)):\n",
    "        if A[i] <= N:\n",
    "            last_counter[A[i]-1] += 1\n",
    "            if mx < last_counter[A[i]-1]:\n",
    "                mx = last_counter[A[i]-1]\n",
    "        else:\n",
    "             last_counter = [mx]*N\n",
    "    return last_counter\n",
    "\n",
    "solution(N, A)"
   ]
  }
 ],
 "metadata": {
  "kernelspec": {
   "display_name": "Python 3",
   "language": "python",
   "name": "python3"
  },
  "language_info": {
   "codemirror_mode": {
    "name": "ipython",
    "version": 3
   },
   "file_extension": ".py",
   "mimetype": "text/x-python",
   "name": "python",
   "nbconvert_exporter": "python",
   "pygments_lexer": "ipython3",
   "version": "3.8.3"
  }
 },
 "nbformat": 4,
 "nbformat_minor": 4
}
